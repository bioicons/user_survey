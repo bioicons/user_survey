{
 "cells": [
  {
   "cell_type": "code",
   "execution_count": 1,
   "metadata": {},
   "outputs": [],
   "source": [
    "import plotly.express as px\n",
    "import pandas as pd\n",
    "import plotly.graph_objects as go\n"
   ]
  },
  {
   "cell_type": "code",
   "execution_count": 97,
   "metadata": {},
   "outputs": [],
   "source": [
    "# survey results with emails, processing to remove information that cannot be shared.\n",
    "df = pd.read_csv(\"survey_results.csv\")"
   ]
  },
  {
   "cell_type": "code",
   "execution_count": 98,
   "metadata": {},
   "outputs": [
    {
     "data": {
      "text/plain": [
       "Index(['Zeitstempel',\n",
       "       'I use the following databases for my scientific illustrations:',\n",
       "       'Regarding BioIcons', 'Is it easy to use the current BioIcons website?',\n",
       "       'If you know about BioIcons, have you ever submitted or thought about submitting illustrations using the webform or via PullRequest?',\n",
       "       'I use the following tools to draw scientific illustrations or to assemble icons from BioIcons in illustrations',\n",
       "       'Which proposed features do you think are most useful to you: [Extension of the icon catalog based on community requests]',\n",
       "       'Which proposed features do you think are most useful to you: [Collaborative web editor]',\n",
       "       'Which proposed features do you think are most useful to you: [Templating mechanism to share graphics created using BioIcons for others to reuse]',\n",
       "       'Which proposed features do you think are most useful to you: [Workshops on illustration licensing and creating illustrations using BioIcons]',\n",
       "       'Any software features you miss in your current workflow that would help you? (in your Editor or in the Database)\\r\\n',\n",
       "       'Have you ever used BioIcons in a publication?',\n",
       "       'Please provide links to the publications, if yes in preceding question.',\n",
       "       'Name', 'Affiliation', 'Country', 'Position', 'Email (optional)',\n",
       "       'Other Comments'],\n",
       "      dtype='object')"
      ]
     },
     "execution_count": 98,
     "metadata": {},
     "output_type": "execute_result"
    }
   ],
   "source": [
    "df.columns"
   ]
  },
  {
   "cell_type": "code",
   "execution_count": 99,
   "metadata": {},
   "outputs": [],
   "source": [
    "df = df.drop(columns=['Any software features you miss in your current workflow that would help you? (in your Editor or in the Database)\\r\\n',\n",
    "       'Have you ever used BioIcons in a publication?',\n",
    "       'Please provide links to the publications, if yes in preceding question.',\n",
    "       'Name', 'Affiliation', 'Email (optional)',\n",
    "       'Other Comments'])"
   ]
  },
  {
   "cell_type": "code",
   "execution_count": 100,
   "metadata": {},
   "outputs": [],
   "source": [
    "df.to_csv(\"processed_user_survey.csv\")"
   ]
  },
  {
   "cell_type": "code",
   "execution_count": 4,
   "metadata": {},
   "outputs": [
    {
     "data": {
      "text/plain": [
       "BioIcons                                                            165\n",
       "BioIcons, BioRender                                                 103\n",
       "BioRender                                                            66\n",
       "BioIcons, Wikimedia Commons                                          31\n",
       "BioIcons, BioRender, SciDraw                                         19\n",
       "                                                                   ... \n",
       "BioIcons, BioRender, Wikimedia Commons, SVGRepo                       1\n",
       "BioRender, SciDraw, FreePik, Other Stocklibrary such as Vecteezy      1\n",
       "Protein                                                               1\n",
       "BioRender, Open ClipArt                                               1\n",
       "BioRender, Adobe Stock, Other Stocklibrary such as Vecteezy           1\n",
       "Name: I use the following databases for my scientific illustrations:, Length: 169, dtype: int64"
      ]
     },
     "execution_count": 4,
     "metadata": {},
     "output_type": "execute_result"
    }
   ],
   "source": [
    "df['I use the following databases for my scientific illustrations:'].value_counts()"
   ]
  },
  {
   "cell_type": "code",
   "execution_count": 40,
   "metadata": {},
   "outputs": [
    {
     "name": "stdout",
     "output_type": "stream",
     "text": [
      "Total answers 696\n"
     ]
    }
   ],
   "source": [
    "df_split = df['I use the following databases for my scientific illustrations:'].str.split(',')\n",
    "\n",
    "# Step 2: Explode the lists into separate rows\n",
    "df_exploded = df_split.explode().str.strip()\n",
    "\n",
    "# Step 3: Count the occurrences of each unique value\n",
    "value_counts = df_exploded.value_counts().reset_index()\n",
    "value_counts.columns = ['Database', 'Count']\n",
    "\n",
    "value_counts['Database'] = value_counts.apply(lambda x: 'Other' if x['Count'] == 1 else x['Database'], axis=1)\n",
    "\n",
    "# Step 5: Recount the occurrences including the \"Other\" category\n",
    "final_counts = value_counts.groupby('Database')['Count'].sum().reset_index()\n",
    "\n",
    "final_counts[final_counts['Database']!=\"\"].sort_values(by=\"Count\", ascending=False).to_csv(\"database.csv\", index=False)\n",
    "\n",
    "print(\"Total answers\", len(df[df['I use the following databases for my scientific illustrations:'].notna()]))"
   ]
  },
  {
   "cell_type": "code",
   "execution_count": 33,
   "metadata": {},
   "outputs": [
    {
     "name": "stdout",
     "output_type": "stream",
     "text": [
      "Total answers 755\n"
     ]
    }
   ],
   "source": [
    "\n",
    "value_counts = df['Regarding BioIcons'].value_counts().reset_index()\n",
    "value_counts.columns = ['Database', 'Count']\n",
    "\n",
    "value_counts['Percentage'] = value_counts['Count'] / value_counts['Count'].sum() * 100\n",
    "value_counts['Percentage'] = value_counts['Percentage'].round(2)\n",
    "value_counts['Percentage'] = value_counts['Percentage'].astype(str) + '%'\n",
    "value_counts.to_csv(\"bioicons.csv\", index=False)\n",
    "print(\"Total answers\", sum(value_counts['Count']))"
   ]
  },
  {
   "cell_type": "code",
   "execution_count": 42,
   "metadata": {},
   "outputs": [
    {
     "name": "stdout",
     "output_type": "stream",
     "text": [
      "Total answers 672\n"
     ]
    }
   ],
   "source": [
    "value_counts = df['If you know about BioIcons, have you ever submitted or thought about submitting illustrations using the webform or via PullRequest?'].value_counts().reset_index()\n",
    "value_counts.columns = ['Answer', 'Count']\n",
    "\n",
    "value_counts['Percentage'] = value_counts['Count'] / value_counts['Count'].sum() * 100\n",
    "value_counts['Percentage'] = value_counts['Percentage'].round(2)\n",
    "value_counts['Percentage'] = value_counts['Percentage'].astype(str) + '%'\n",
    "value_counts.to_csv(\"submitting_bioicons.csv\", index=False)\n",
    "print(\"Total answers\", sum(value_counts['Count']))"
   ]
  },
  {
   "cell_type": "code",
   "execution_count": 59,
   "metadata": {},
   "outputs": [
    {
     "name": "stdout",
     "output_type": "stream",
     "text": [
      "Total answers 662\n"
     ]
    }
   ],
   "source": [
    "df_split = df['I use the following tools to draw scientific illustrations or to assemble icons from BioIcons in illustrations'].str.split(',')\n",
    "\n",
    "# rename\n",
    "\n",
    "rename = {\n",
    "    \"Affinity designer\": \"Affinity Designer\",\n",
    "    \"affinity designer\": \"Affinity Designer\",\n",
    "    \"Affinity designer 2\": \"Affinity Designer\",\n",
    "    \"Affinity Designer\": \"Affinity Designer\",\n",
    "    \"AffinityDesigner\": \"Affinity Designer\",\n",
    "    \"Affinity\": \"Affinity Designer\",\n",
    "    \"CorelDraw\": \"Corel Draw\",\n",
    "    \"GIMP Only office\":\"GIMP, Only Office\",\n",
    "    \"Draw.io and Visio\": \"Draw.io, Microsoft Visio\",\n",
    "    \"GIMP Only Office\": \"GIMP, Only Office\",\n",
    "    \"Gimp\": \"GIMP\",\n",
    "    \"gimp\":\"GIMP\",\n",
    "    \"google slides\": \"Google Slides\",\n",
    "    \"Google Drawing\": \"Google Draw\",\n",
    "    \"canva\":\"Canva\",\n",
    "    \"Draw.io\":\"draw.io\",\n",
    "    \"Krita\":\"KDE Krita\",\n",
    "    \"Adobe Photoshop and Microsoft Visio\": \"Adobe Photoshop,Microsoft Visio\"\n",
    "}\n",
    "\n",
    "\n",
    "\n",
    "\n",
    "\n",
    "# Step 2: Explode the lists into separate rows\n",
    "df_exploded = df_split.explode().str.strip()\n",
    "df_exploded = df_exploded.replace(rename)\n",
    "df_split = df_exploded.str.split(',')\n",
    "df_exploded = df_split.explode().str.strip()\n",
    "\n",
    "\n",
    "# Step 3: Count the occurrences of each unique value\n",
    "value_counts = df_exploded.value_counts().reset_index()\n",
    "value_counts.columns = ['Tool', 'Count']\n",
    "\n",
    "\n",
    "\n",
    "# Step 5: Recount the occurrences including the \"Other\" category\n",
    "final_counts = value_counts.groupby('Tool')['Count'].sum().reset_index()\n",
    "\n",
    "final_counts[final_counts['Tool']!=\"\"].sort_values(by=\"Count\", ascending=False).to_csv(\"tool.csv\", index=False)\n",
    "\n",
    "print(\"Total answers\", len(df[df['I use the following tools to draw scientific illustrations or to assemble icons from BioIcons in illustrations'].notna()]))"
   ]
  },
  {
   "cell_type": "code",
   "execution_count": 79,
   "metadata": {},
   "outputs": [
    {
     "name": "stdout",
     "output_type": "stream",
     "text": [
      "Total answers Extension of the icon catalog based on community requests 631\n",
      "Total answers Collaborative web editor 621\n",
      "Total answers Templating mechanism to share graphics created using BioIcons for others to reuse 627\n",
      "Total answers Workshops on illustration licensing and creating illustrations using BioIcons 621\n"
     ]
    }
   ],
   "source": [
    "dfs = []\n",
    "keys = {\"Extension of the icon catalog based on community requests\":\"Which proposed features do you think are most useful to you: [Extension of the icon catalog based on community requests]\",\n",
    "\"Collaborative web editor\":'Which proposed features do you think are most useful to you: [Collaborative web editor]',\n",
    "\"Templating mechanism to share graphics created using BioIcons for others to reuse\":'Which proposed features do you think are most useful to you: [Templating mechanism to share graphics created using BioIcons for others to reuse]',\n",
    "\"Workshops on illustration licensing and creating illustrations using BioIcons\":'Which proposed features do you think are most useful to you: [Workshops on illustration licensing and creating illustrations using BioIcons]',\n",
    "}\n",
    "\n",
    "for key, value in keys.items():\n",
    "        value_counts = df[value].value_counts().reset_index()\n",
    "        value_counts.columns = ['Answer', 'Count']\n",
    "        value_counts['Percentage'] = value_counts['Count'] / value_counts['Count'].sum() * 100\n",
    "        value_counts['Percentage'] = value_counts['Percentage'].round(2)\n",
    "        value_counts['Percentage'] = value_counts['Percentage'].astype(str) + '%'\n",
    "        value_counts['key'] = key\n",
    "        print(\"Total answers\", key,sum(value_counts['Count']))\n",
    "        dfs.append(value_counts)\n",
    "\n",
    "dfs = pd.concat(dfs)\n",
    "\n",
    "\n",
    "\n",
    "\n",
    "dfs = dfs.pivot(index='Answer', columns='key', values='Count').reset_index()\n",
    "\n",
    "key_index =  [\"Answer\"]+list(keys.keys())\n",
    "\n",
    "dfs = dfs.reindex(columns=sorted(dfs.columns, key=lambda x:key_index.index(x)))\n",
    "\n",
    "dfs.to_csv(\"icon_catalog_extension.csv\", index=False)\n"
   ]
  },
  {
   "cell_type": "code",
   "execution_count": 85,
   "metadata": {},
   "outputs": [],
   "source": [
    "df['Country'][df['Country'].notna()].value_counts().to_csv(\"countries.csv\")\n"
   ]
  },
  {
   "cell_type": "code",
   "execution_count": 86,
   "metadata": {},
   "outputs": [
    {
     "name": "stdout",
     "output_type": "stream",
     "text": [
      "Total responses 368\n"
     ]
    }
   ],
   "source": [
    "print(\"Total responses\", len(df['Country'][df['Country'].notna()]))"
   ]
  },
  {
   "cell_type": "code",
   "execution_count": 96,
   "metadata": {},
   "outputs": [
    {
     "name": "stdout",
     "output_type": "stream",
     "text": [
      "Total responses 567\n"
     ]
    }
   ],
   "source": [
    "\n",
    "replace = {\n",
    "\"研究生\":\"PostDoc\",\n",
    "\"Scientist \":\"academic staff\",\n",
    "\"Government Research Entomologist\":\"academic staff\",\n",
    "\"Researcher\":\"academic staff\",\n",
    "\"Biotech research staff\":\"academic staff\",\n",
    "\"Academic Technician\":\"academic staff\",\n",
    "\"M.S. Biology Candidate\":\"Undergraduate\",\n",
    "\"permanent academic staff\":\"academic staff\",\n",
    "\"Temporary academic staff\":\"academic staff\",\n",
    "\"Assistant professor in pharmacology\":\"Professor\",\n",
    "\"Masters graduate\":\"Undergraduate\",\n",
    "\"Senior Bioinformatician\":\"academic staff\",\n",
    "\"research support company\":\"Industry\",\n",
    "\"MSc serving as a non-military service member in the University of Helsinki.\":\"Undergraduate\",\n",
    "\"Senior Scientist \":\"academic staff\",\n",
    "\"Principal Scientist, Computational Sciences and Engineering\":\"academic staff\",\n",
    "\"Research Associate\":\"academic staff\",\n",
    "\"master's\":\"Undergraduate\",\n",
    "\"Biology Teacher\":\"Teacher\",\n",
    "\"Pharma Consultant\":\"Industry\",\n",
    "\"I have been a professor but now work in industry \":\"Industry\",\n",
    "\"Master \":\"Undergraduate\",\n",
    "\"Faculty of Medicine, 5th.\":\"Undergraduate\",\n",
    "\"researcher\":\"academic staff\",\n",
    "\"Staff\":\"academic staff\",\n",
    "\"Self-study\": \"Other\",\n",
    "\"Independent Scientist\":\"Other\",\n",
    "\"Principal investigator\":\"Group Leader\",\n",
    "\"Science Technician\":\"academic staff\",\n",
    "\"Masters Student\":\"Undergraduate\",\n",
    "\"MD Student\":\"Undergraduate\",\n",
    "\"Lab Staff\":\"academic staff\",\n",
    "\"At present looking for roles\":\"Other\",\n",
    "\"Data Outputs Manager\":\"academic staff\",\n",
    "\"industry/biotech dept head\":\"Industry\",\n",
    "\"Industry bioinfo\":\"Industry\",\n",
    "\"Computational Biologist (industry)\":\"Industry\",\n",
    "\"non-permanent academic staff\":\"academic staff\",\n",
    "\"Group leader\":\"Group Leader\",\n",
    "\"not-permanent academic staff\":\"academic staff\",\n",
    "\"MSc student\":\"Undergraduate\",\n",
    "\"Msc student\":\"Undergraduate\",\n",
    "\"Research associate\":\"academic staff\",\n",
    "\"research manager\":\"academic staff\",\n",
    "\"Research Assistant\":\"academic staff\",\n",
    "\"High school research science teacher\":\"Teacher\",\n",
    "\"Teaching support\":\"Teacher\",\n",
    "\"Company\":\"Industry\",\n",
    "\"Scientist\":\"academic staff\",\n",
    "\"Research Scientist\":\"academic staff\",\n",
    "\"Consultant\":\"Industry\",\n",
    "\"CEO\":\"Industry\",\n",
    "\"Graduate\":\"Other\",\n",
    "\"Lecturer\": \"Group Leader\",\n",
    "\"Postgraduate\":\"Other\"\n",
    "}\n",
    "\n",
    "df_pos = df['Position'][df['Position'].notna()]\n",
    "df_pos  = df_pos.replace(replace)\n",
    "\n",
    "df_pos.value_counts().to_csv(\"position.csv\")\n",
    "print(\"Total responses\", len(df['Position'][df['Position'].notna()]))"
   ]
  },
  {
   "cell_type": "markdown",
   "metadata": {},
   "source": [
    "All plots were made with datawrapper and are available on https://blog.bioicons.com/post/user_survey/"
   ]
  },
  {
   "cell_type": "markdown",
   "metadata": {},
   "source": []
  }
 ],
 "metadata": {
  "kernelspec": {
   "display_name": "allmetal3d",
   "language": "python",
   "name": "python3"
  },
  "language_info": {
   "codemirror_mode": {
    "name": "ipython",
    "version": 3
   },
   "file_extension": ".py",
   "mimetype": "text/x-python",
   "name": "python",
   "nbconvert_exporter": "python",
   "pygments_lexer": "ipython3",
   "version": "3.9.18"
  }
 },
 "nbformat": 4,
 "nbformat_minor": 2
}
